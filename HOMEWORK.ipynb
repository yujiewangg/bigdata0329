{
 "cells": [
  {
   "cell_type": "code",
   "execution_count": null,
   "metadata": {},
   "outputs": [],
   "source": [
    "! pip install ucimlrepo"
   ]
  },
  {
   "cell_type": "markdown",
   "metadata": {},
   "source": [
    "## SID C110181120\n",
    "## NAME 王昱杰"
   ]
  },
  {
   "cell_type": "code",
   "execution_count": null,
   "metadata": {},
   "outputs": [],
   "source": [
    "from ucimlrepo import fetch_ucirepo \n",
    "  \n",
    "# fetch dataset \n",
    "cervical_cancer_risk_factors = fetch_ucirepo(id=383) \n",
    "  \n",
    "# data (as pandas dataframes) \n",
    "X = cervical_cancer_risk_factors.data.features \n",
    "y = cervical_cancer_risk_factors.data.targets \n",
    "  \n",
    "# metadata \n",
    "print(cervical_cancer_risk_factors.metadata) \n",
    "  \n",
    "# variable information \n",
    "print(cervical_cancer_risk_factors.variables) \n"
   ]
  }
 ],
 "metadata": {
  "language_info": {
   "name": "python"
  }
 },
 "nbformat": 4,
 "nbformat_minor": 2
}
